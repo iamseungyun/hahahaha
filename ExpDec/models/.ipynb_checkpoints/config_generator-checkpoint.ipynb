{
 "cells": [
  {
   "cell_type": "code",
   "execution_count": 9,
   "id": "535bc2fa-7750-40f6-af3c-a7d6864c645c",
   "metadata": {},
   "outputs": [],
   "source": [
    "import os"
   ]
  },
  {
   "cell_type": "code",
   "execution_count": 10,
   "id": "657ca9d0-0c8f-4d41-8e40-525d300448d6",
   "metadata": {},
   "outputs": [],
   "source": [
    "def save_config_to_yaml(config, path):\n",
    "    assert path.endswith('.yaml')\n",
    "    with open(path, 'w') as f:\n",
    "        f.write(yaml.dump(config))\n",
    "        f.close()"
   ]
  },
  {
   "cell_type": "code",
   "execution_count": 11,
   "id": "26eaf01c-8bf8-4a80-9ec0-ac65ead54e9d",
   "metadata": {},
   "outputs": [],
   "source": [
    "model = 'DCdetector'\n",
    "data = 'SWAT'\n",
    "\n",
    "yaml_path = os.path.join(f'{model}/{data}.yaml')"
   ]
  },
  {
   "cell_type": "code",
   "execution_count": 12,
   "id": "0207dd61-f614-46f4-96e8-e28c37612064",
   "metadata": {},
   "outputs": [],
   "source": [
    "config = dict()"
   ]
  },
  {
   "cell_type": "code",
   "execution_count": 13,
   "id": "af33958a-9aaf-4e54-8d57-d46d86f97085",
   "metadata": {},
   "outputs": [],
   "source": [
    "config['model'] = dict()"
   ]
  },
  {
   "cell_type": "code",
   "execution_count": 14,
   "id": "82e99e11-86f4-46e2-8538-cddb3534db2e",
   "metadata": {},
   "outputs": [],
   "source": [
    "config['solver'] = dict()"
   ]
  },
  {
   "cell_type": "code",
   "execution_count": null,
   "id": "66e4c2c7-f793-44eb-83ae-d75765749a81",
   "metadata": {},
   "outputs": [],
   "source": []
  }
 ],
 "metadata": {
  "kernelspec": {
   "display_name": "Python 3 (ipykernel)",
   "language": "python",
   "name": "python3"
  },
  "language_info": {
   "codemirror_mode": {
    "name": "ipython",
    "version": 3
   },
   "file_extension": ".py",
   "mimetype": "text/x-python",
   "name": "python",
   "nbconvert_exporter": "python",
   "pygments_lexer": "ipython3",
   "version": "3.10.9"
  }
 },
 "nbformat": 4,
 "nbformat_minor": 5
}
