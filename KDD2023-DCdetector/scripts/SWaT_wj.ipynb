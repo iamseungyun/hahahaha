{
 "cells": [
  {
   "cell_type": "code",
   "execution_count": 5,
   "id": "838a3454",
   "metadata": {},
   "outputs": [
    {
     "ename": "ImportError",
     "evalue": "attempted relative import with no known parent package",
     "output_type": "error",
     "traceback": [
      "\u001b[0;31m---------------------------------------------------------------------------\u001b[0m",
      "\u001b[0;31mImportError\u001b[0m                               Traceback (most recent call last)",
      "Cell \u001b[0;32mIn[5], line 8\u001b[0m\n\u001b[1;32m      5\u001b[0m \u001b[38;5;28;01mimport\u001b[39;00m \u001b[38;5;21;01mjson\u001b[39;00m\n\u001b[1;32m      7\u001b[0m \u001b[38;5;66;03m# from ..utils.utils import *\u001b[39;00m\n\u001b[0;32m----> 8\u001b[0m \u001b[38;5;28;01mfrom\u001b[39;00m \u001b[38;5;21;01m.\u001b[39;00m\u001b[38;5;21;01m.\u001b[39;00m\u001b[38;5;21;01msolver\u001b[39;00m \u001b[38;5;28;01mimport\u001b[39;00m Solver\n",
      "\u001b[0;31mImportError\u001b[0m: attempted relative import with no known parent package"
     ]
    }
   ],
   "source": [
    "import os\n",
    "import time\n",
    "import seaborn as sns\n",
    "import matplotlib.pyplot as plt\n",
    "import json\n",
    "\n",
    "# from ..utils.utils import *\n",
    "from ..solver import Solver"
   ]
  },
  {
   "cell_type": "code",
   "execution_count": 2,
   "id": "b2d45728",
   "metadata": {},
   "outputs": [],
   "source": [
    "config = {\n",
    "    'win_size': 105,\n",
    "    'patch_size': [3, 5, 7],\n",
    "    'lr': 1e-4,\n",
    "    'loss_fuc': 'MSE',\n",
    "    'n_heads': 1,\n",
    "    'e_layers': 3,\n",
    "    'd_model': 256,\n",
    "    'rec_timeseries': True,\n",
    "    'gpu': 0,\n",
    "    'index': 137,\n",
    "    'num_epochs': 10,\n",
    "    'batch_size': 128,\n",
    "    'input_c': 51,\n",
    "    'output_c': 51,\n",
    "    'k': 3,\n",
    "    'dataset': 'SWAT',\n",
    "    'mode': 'test',\n",
    "    'data_path': 'SWAT',\n",
    "    'model_save_path': 'checkpoints',\n",
    "    'anormly_ratio': 1,\n",
    "}\n",
    "\n",
    "config['patch_size'] = [int(patch_index) for patch_index in config['patch_size']]"
   ]
  },
  {
   "cell_type": "code",
   "execution_count": 3,
   "id": "bcdb489c",
   "metadata": {
    "scrolled": true
   },
   "outputs": [
    {
     "name": "stdout",
     "output_type": "stream",
     "text": [
      "====================  Test  ===================\n",
      "adaptive threshold:  quantile\n",
      "Threshold : (698880,)\n",
      "pa_accuracy           : 0.9360\n",
      "pa_precision          : 0.3940\n",
      "pa_recall             : 0.9766\n",
      "pa_f_score            : 0.5615\n",
      "MCC_score             : 6.3738\n",
      "Affiliation precision : 0.5066\n",
      "Affiliation recall    : 0.9908\n",
      "R_AUC_ROC             : 0.8235\n",
      "R_AUC_PR              : 0.5738\n",
      "VUS_ROC               : 0.8248\n",
      "VUS_PR                : 0.5753\n",
      "Accuracy : 0.9360, Precision : 0.3940, Recall : 0.9766, F-score : 0.5615 \n"
     ]
    }
   ],
   "source": [
    "# def find_nearest(batch_size_buffer, value):\n",
    "#     return min(batch_size_buffer, key=lambda x: abs(x - value))\n",
    "\n",
    "# if config['dataset'] in ['UCR', 'UCR_AUG', 'SMD_Ori']:\n",
    "#     batch_size_buffer = [2, 4, 8, 16, 32, 64, 128, 256, 512]\n",
    "#     dataset_path = f\"dataset/{config['data_path']}/\" + config['dataset'] + f\"_{config['index']}_train.npy\"\n",
    "#     data_len = np.load(dataset_path).shape[0]\n",
    "#     config['batch_size'] = find_nearest(batch_size_buffer, data_len / config['win_size'])\n",
    "\n",
    "# if config['use_gpu'] and config['use_multi_gpu']:\n",
    "#     config['devices'] = config['devices'].replace(' ', '')\n",
    "#     config['device_ids'] = [int(id_) for id_ in config['devices'].split(',')]\n",
    "#     config['gpu'] = config['device_ids'][0]\n",
    "\n",
    "    \n",
    "# cudnn.benchmark = True\n",
    "# if (not os.path.exists(config['model_save_path'])):\n",
    "#     mkdir(config.model_save_path)\n",
    "    \n",
    "if config['mode'] == 'train':\n",
    "    config['num_epochs'] = 2\n",
    "    solver = Solver(config)\n",
    "    print(\"\\n\\n\")\n",
    "    print(time.strftime(\"%Y-%m-%d %H:%M:%S\", time.localtime()))\n",
    "    print('================ Hyperparameters ===============')\n",
    "    for k, v in sorted(config.items()):\n",
    "        print(f'{k}: {v}')\n",
    "    print('====================  Train  ===================')\n",
    "    solver.train()\n",
    "    \n",
    "elif config['mode'] == 'test':\n",
    "    print('====================  Test  ===================')\n",
    "    config['num_epochs'] = 10\n",
    "    solver = Solver(config)\n",
    "    solver.test()"
   ]
  },
  {
   "cell_type": "code",
   "execution_count": null,
   "id": "8575b22b",
   "metadata": {},
   "outputs": [],
   "source": []
  },
  {
   "cell_type": "code",
   "execution_count": 8,
   "id": "b5da7306",
   "metadata": {},
   "outputs": [
    {
     "data": {
      "text/plain": [
       "29319"
      ]
     },
     "execution_count": 8,
     "metadata": {},
     "output_type": "execute_result"
    }
   ],
   "source": [
    "gt.sum()"
   ]
  },
  {
   "cell_type": "code",
   "execution_count": 7,
   "id": "f0ad264d",
   "metadata": {},
   "outputs": [
    {
     "data": {
      "text/plain": [
       "45911"
      ]
     },
     "execution_count": 7,
     "metadata": {},
     "output_type": "execute_result"
    }
   ],
   "source": [
    "pred.sum()"
   ]
  },
  {
   "cell_type": "code",
   "execution_count": 4,
   "id": "ad9bd89a",
   "metadata": {},
   "outputs": [],
   "source": [
    "pred = np.load('wj_temp/pred_new_qt.npy')\n",
    "pred_adj = np.load('wj_temp/pred_adj_new_qt.npy')\n",
    "gt = np.load('wj_temp/gt.npy')\n",
    "test_energy = np.load('wj_temp/test_energy_new_qt.npy')"
   ]
  },
  {
   "cell_type": "code",
   "execution_count": 5,
   "id": "699972c3",
   "metadata": {
    "scrolled": true
   },
   "outputs": [
    {
     "name": "stdout",
     "output_type": "stream",
     "text": [
      "Accuracy : 0.8977, Precision : 0.0409, Recall : 0.0640, F-score : 0.0499 \n"
     ]
    }
   ],
   "source": [
    "from sklearn.metrics import precision_recall_fscore_support\n",
    "from sklearn.metrics import accuracy_score\n",
    "\n",
    "accuracy = accuracy_score(gt, pred)\n",
    "precision, recall, f_score, support = precision_recall_fscore_support(gt, pred, average='binary')\n",
    "print(\"Accuracy : {:0.4f}, Precision : {:0.4f}, Recall : {:0.4f}, F-score : {:0.4f} \".format(accuracy, precision, recall, f_score))"
   ]
  },
  {
   "cell_type": "code",
   "execution_count": 6,
   "id": "2d31650d",
   "metadata": {},
   "outputs": [
    {
     "name": "stdout",
     "output_type": "stream",
     "text": [
      "Accuracy : 0.9360, Precision : 0.3940, Recall : 0.9766, F-score : 0.5615 \n"
     ]
    }
   ],
   "source": [
    "accuracy = accuracy_score(gt, pred_adj)\n",
    "precision, recall, f_score, support = precision_recall_fscore_support(gt, pred_adj, average='binary')\n",
    "print(\"Accuracy : {:0.4f}, Precision : {:0.4f}, Recall : {:0.4f}, F-score : {:0.4f} \".format(accuracy, precision, recall, f_score))"
   ]
  },
  {
   "cell_type": "code",
   "execution_count": 6,
   "id": "d52c75fb",
   "metadata": {},
   "outputs": [
    {
     "data": {
      "text/plain": [
       "29319"
      ]
     },
     "execution_count": 6,
     "metadata": {},
     "output_type": "execute_result"
    }
   ],
   "source": [
    "gt.sum()"
   ]
  },
  {
   "cell_type": "code",
   "execution_count": 7,
   "id": "04695706",
   "metadata": {
    "scrolled": true
   },
   "outputs": [
    {
     "data": {
      "text/plain": [
       "4133"
      ]
     },
     "execution_count": 7,
     "metadata": {},
     "output_type": "execute_result"
    }
   ],
   "source": [
    "pred.sum()"
   ]
  },
  {
   "cell_type": "code",
   "execution_count": null,
   "id": "3c5d328c",
   "metadata": {},
   "outputs": [],
   "source": []
  },
  {
   "cell_type": "code",
   "execution_count": 3,
   "id": "6abdf4e5",
   "metadata": {},
   "outputs": [],
   "source": [
    "solver = Solver(config)"
   ]
  },
  {
   "cell_type": "code",
   "execution_count": 4,
   "id": "9cde74d2",
   "metadata": {},
   "outputs": [
    {
     "name": "stdout",
     "output_type": "stream",
     "text": [
      "Batch 0 saved at wj_temp/saved_data/batch_0.pt\n",
      "Batch 1 saved at wj_temp/saved_data/batch_1.pt\n",
      "Batch 2 saved at wj_temp/saved_data/batch_2.pt\n",
      "Batch 3 saved at wj_temp/saved_data/batch_3.pt\n",
      "Batch 4 saved at wj_temp/saved_data/batch_4.pt\n"
     ]
    }
   ],
   "source": [
    "import torch\n",
    "import os\n",
    "\n",
    "save_path = \"wj_temp/saved_data\"\n",
    "os.makedirs(save_path, exist_ok=True)\n",
    "\n",
    "num_batches_to_save = 5  \n",
    "batch_idx = 0  \n",
    "\n",
    "for input_data, labels in solver.thre_loader:\n",
    "    if batch_idx >= num_batches_to_save:  \n",
    "        break  \n",
    "\n",
    "    input = input_data.float().to(solver.device)\n",
    "    series, prior = solver.model(input)\n",
    "\n",
    "    batch_data = {\n",
    "        \"input_data\": input_data,\n",
    "        \"labels\": labels,\n",
    "        \"series\": series,\n",
    "        \"prior\": prior,\n",
    "    }\n",
    "\n",
    "    batch_save_path = os.path.join(save_path, f\"batch_{batch_idx}.pt\")\n",
    "    torch.save(batch_data, batch_save_path)\n",
    "    print(f\"Batch {batch_idx} saved at {batch_save_path}\")\n",
    "\n",
    "    batch_idx += 1"
   ]
  },
  {
   "cell_type": "code",
   "execution_count": null,
   "id": "29096c29",
   "metadata": {},
   "outputs": [],
   "source": []
  },
  {
   "cell_type": "code",
   "execution_count": null,
   "id": "f10daf81",
   "metadata": {},
   "outputs": [],
   "source": []
  }
 ],
 "metadata": {
  "kernelspec": {
   "display_name": "woojin",
   "language": "python",
   "name": "woojin"
  },
  "language_info": {
   "codemirror_mode": {
    "name": "ipython",
    "version": 3
   },
   "file_extension": ".py",
   "mimetype": "text/x-python",
   "name": "python",
   "nbconvert_exporter": "python",
   "pygments_lexer": "ipython3",
   "version": "3.10.12"
  }
 },
 "nbformat": 4,
 "nbformat_minor": 5
}
