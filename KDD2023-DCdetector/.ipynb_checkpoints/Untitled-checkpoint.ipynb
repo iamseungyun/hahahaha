{
 "cells": [
  {
   "cell_type": "code",
   "execution_count": 1,
   "id": "5a0af746",
   "metadata": {},
   "outputs": [],
   "source": [
    "import os\n",
    "#from torch.backends import cudnn\n",
    "import torch\n",
    "import time\n",
    "from utils.utils import *\n",
    "from solver import Solver"
   ]
  },
  {
   "cell_type": "code",
   "execution_count": 2,
   "id": "21fc169d",
   "metadata": {},
   "outputs": [],
   "source": [
    "config = {\n",
    "    'win_size': 105,\n",
    "    'patch_size': [57],\n",
    "    'lr': 1e-4,\n",
    "    'loss_fuc': 'MSE',\n",
    "    'n_heads': 1,\n",
    "    'e_layers': 3,\n",
    "    'd_model': 256,\n",
    "    'rec_timeseries': True,\n",
    "    'use_gpu': torch.cuda.is_available(),\n",
    "    'gpu': 0,\n",
    "    'use_multi_gpu': True,\n",
    "    'devices': '0,1,2,3',\n",
    "    'index': 137,\n",
    "    'num_epochs': 2,\n",
    "    'batch_size': 256,\n",
    "    'input_c': 38,\n",
    "    'output_c': 38,\n",
    "    'k': 3,\n",
    "    'dataset': 'SMD',\n",
    "    'mode': 'train',\n",
    "    'data_path': '../dataset_anomaly/SMD',\n",
    "    'model_save_path': 'checkpoints',\n",
    "    'anormly_ratio': 0.6,\n",
    "}\n",
    "\n",
    "config['patch_size'] = [int(patch_index) for patch_index in config['patch_size']]"
   ]
  },
  {
   "cell_type": "code",
   "execution_count": 3,
   "id": "a9004361",
   "metadata": {},
   "outputs": [
    {
     "name": "stdout",
     "output_type": "stream",
     "text": [
      "\n",
      "\n",
      "\n",
      "2025-03-04 10:22:51\n",
      "================ Hyperparameters ===============\n",
      "anormly_ratio: 0.6\n",
      "batch_size: 256\n",
      "d_model: 256\n",
      "data_path: ../dataset_anomaly\n",
      "dataset: SMD\n",
      "device_ids: [0, 1, 2, 3]\n",
      "devices: 0,1,2,3\n",
      "e_layers: 3\n",
      "gpu: 0\n",
      "index: 137\n",
      "input_c: 38\n",
      "k: 3\n",
      "loss_fuc: MSE\n",
      "lr: 0.0001\n",
      "mode: train\n",
      "model_save_path: checkpoints\n",
      "n_heads: 1\n",
      "num_epochs: 2\n",
      "output_c: 38\n",
      "patch_size: [57]\n",
      "rec_timeseries: True\n",
      "use_gpu: True\n",
      "use_multi_gpu: True\n",
      "win_size: 105\n",
      "====================  Train  ===================\n"
     ]
    },
    {
     "ename": "FileNotFoundError",
     "evalue": "[Errno 2] No such file or directory: '../dataset_anomaly/SMD_train.npy'",
     "output_type": "error",
     "traceback": [
      "\u001b[0;31m---------------------------------------------------------------------------\u001b[0m",
      "\u001b[0;31mFileNotFoundError\u001b[0m                         Traceback (most recent call last)",
      "Cell \u001b[0;32mIn[3], line 22\u001b[0m\n\u001b[1;32m     20\u001b[0m     \u001b[38;5;28mprint\u001b[39m(\u001b[38;5;124mf\u001b[39m\u001b[38;5;124m'\u001b[39m\u001b[38;5;132;01m{\u001b[39;00mk\u001b[38;5;132;01m}\u001b[39;00m\u001b[38;5;124m: \u001b[39m\u001b[38;5;132;01m{\u001b[39;00mv\u001b[38;5;132;01m}\u001b[39;00m\u001b[38;5;124m'\u001b[39m)\n\u001b[1;32m     21\u001b[0m \u001b[38;5;28mprint\u001b[39m(\u001b[38;5;124m'\u001b[39m\u001b[38;5;124m====================  Train  ===================\u001b[39m\u001b[38;5;124m'\u001b[39m)\n\u001b[0;32m---> 22\u001b[0m solver \u001b[38;5;241m=\u001b[39m \u001b[43mSolver\u001b[49m\u001b[43m(\u001b[49m\u001b[43mconfig\u001b[49m\u001b[43m)\u001b[49m\n\u001b[1;32m     23\u001b[0m solver\u001b[38;5;241m.\u001b[39mtrain()\n",
      "File \u001b[0;32m~/disk/sdc/jwj_/AD/KDD2023-DCdetector/solver.py:69\u001b[0m, in \u001b[0;36mSolver.__init__\u001b[0;34m(self, config)\u001b[0m\n\u001b[1;32m     65\u001b[0m \u001b[38;5;28;01mdef\u001b[39;00m \u001b[38;5;21m__init__\u001b[39m(\u001b[38;5;28mself\u001b[39m, config):\n\u001b[1;32m     67\u001b[0m     \u001b[38;5;28mself\u001b[39m\u001b[38;5;241m.\u001b[39m\u001b[38;5;18m__dict__\u001b[39m\u001b[38;5;241m.\u001b[39mupdate(Solver\u001b[38;5;241m.\u001b[39mDEFAULTS, \u001b[38;5;241m*\u001b[39m\u001b[38;5;241m*\u001b[39mconfig)\n\u001b[0;32m---> 69\u001b[0m     \u001b[38;5;28mself\u001b[39m\u001b[38;5;241m.\u001b[39mtrain_loader \u001b[38;5;241m=\u001b[39m \u001b[43mget_loader_segment\u001b[49m\u001b[43m(\u001b[49m\u001b[38;5;28;43mself\u001b[39;49m\u001b[38;5;241;43m.\u001b[39;49m\u001b[43mindex\u001b[49m\u001b[43m,\u001b[49m\u001b[43m \u001b[49m\u001b[38;5;28;43mself\u001b[39;49m\u001b[38;5;241;43m.\u001b[39;49m\u001b[43mdata_path\u001b[49m\u001b[43m,\u001b[49m\u001b[43m \u001b[49m\u001b[43mbatch_size\u001b[49m\u001b[38;5;241;43m=\u001b[39;49m\u001b[38;5;28;43mself\u001b[39;49m\u001b[38;5;241;43m.\u001b[39;49m\u001b[43mbatch_size\u001b[49m\u001b[43m,\u001b[49m\u001b[43m \u001b[49m\u001b[43mwin_size\u001b[49m\u001b[38;5;241;43m=\u001b[39;49m\u001b[38;5;28;43mself\u001b[39;49m\u001b[38;5;241;43m.\u001b[39;49m\u001b[43mwin_size\u001b[49m\u001b[43m,\u001b[49m\u001b[43m \u001b[49m\u001b[43mmode\u001b[49m\u001b[38;5;241;43m=\u001b[39;49m\u001b[38;5;124;43m'\u001b[39;49m\u001b[38;5;124;43mtrain\u001b[39;49m\u001b[38;5;124;43m'\u001b[39;49m\u001b[43m,\u001b[49m\u001b[43m \u001b[49m\u001b[43mdataset\u001b[49m\u001b[38;5;241;43m=\u001b[39;49m\u001b[38;5;28;43mself\u001b[39;49m\u001b[38;5;241;43m.\u001b[39;49m\u001b[43mdataset\u001b[49m\u001b[43m,\u001b[49m\u001b[43m \u001b[49m\u001b[43m)\u001b[49m\n\u001b[1;32m     70\u001b[0m     \u001b[38;5;28mself\u001b[39m\u001b[38;5;241m.\u001b[39mvali_loader \u001b[38;5;241m=\u001b[39m get_loader_segment(\u001b[38;5;28mself\u001b[39m\u001b[38;5;241m.\u001b[39mindex, \u001b[38;5;28mself\u001b[39m\u001b[38;5;241m.\u001b[39mdata_path, batch_size\u001b[38;5;241m=\u001b[39m\u001b[38;5;28mself\u001b[39m\u001b[38;5;241m.\u001b[39mbatch_size, win_size\u001b[38;5;241m=\u001b[39m\u001b[38;5;28mself\u001b[39m\u001b[38;5;241m.\u001b[39mwin_size, mode\u001b[38;5;241m=\u001b[39m\u001b[38;5;124m'\u001b[39m\u001b[38;5;124mval\u001b[39m\u001b[38;5;124m'\u001b[39m, dataset\u001b[38;5;241m=\u001b[39m\u001b[38;5;28mself\u001b[39m\u001b[38;5;241m.\u001b[39mdataset)\n\u001b[1;32m     71\u001b[0m     \u001b[38;5;28mself\u001b[39m\u001b[38;5;241m.\u001b[39mtest_loader \u001b[38;5;241m=\u001b[39m get_loader_segment(\u001b[38;5;28mself\u001b[39m\u001b[38;5;241m.\u001b[39mindex, \u001b[38;5;28mself\u001b[39m\u001b[38;5;241m.\u001b[39mdata_path, batch_size\u001b[38;5;241m=\u001b[39m\u001b[38;5;28mself\u001b[39m\u001b[38;5;241m.\u001b[39mbatch_size, win_size\u001b[38;5;241m=\u001b[39m\u001b[38;5;28mself\u001b[39m\u001b[38;5;241m.\u001b[39mwin_size, mode\u001b[38;5;241m=\u001b[39m\u001b[38;5;124m'\u001b[39m\u001b[38;5;124mtest\u001b[39m\u001b[38;5;124m'\u001b[39m, dataset\u001b[38;5;241m=\u001b[39m\u001b[38;5;28mself\u001b[39m\u001b[38;5;241m.\u001b[39mdataset)\n",
      "File \u001b[0;32m~/disk/sdc/jwj_/AD/KDD2023-DCdetector/data_factory/data_loader.py:505\u001b[0m, in \u001b[0;36mget_loader_segment\u001b[0;34m(index, data_path, batch_size, win_size, step, mode, dataset)\u001b[0m\n\u001b[1;32m    503\u001b[0m \u001b[38;5;28;01mdef\u001b[39;00m \u001b[38;5;21mget_loader_segment\u001b[39m(index, data_path, batch_size, win_size\u001b[38;5;241m=\u001b[39m\u001b[38;5;241m100\u001b[39m, step\u001b[38;5;241m=\u001b[39m\u001b[38;5;241m100\u001b[39m, mode\u001b[38;5;241m=\u001b[39m\u001b[38;5;124m'\u001b[39m\u001b[38;5;124mtrain\u001b[39m\u001b[38;5;124m'\u001b[39m, dataset\u001b[38;5;241m=\u001b[39m\u001b[38;5;124m'\u001b[39m\u001b[38;5;124mKDD\u001b[39m\u001b[38;5;124m'\u001b[39m):\n\u001b[1;32m    504\u001b[0m     \u001b[38;5;28;01mif\u001b[39;00m (dataset \u001b[38;5;241m==\u001b[39m \u001b[38;5;124m'\u001b[39m\u001b[38;5;124mSMD\u001b[39m\u001b[38;5;124m'\u001b[39m):\n\u001b[0;32m--> 505\u001b[0m         dataset \u001b[38;5;241m=\u001b[39m \u001b[43mSMDSegLoader\u001b[49m\u001b[43m(\u001b[49m\u001b[43mdata_path\u001b[49m\u001b[43m,\u001b[49m\u001b[43m \u001b[49m\u001b[43mwin_size\u001b[49m\u001b[43m,\u001b[49m\u001b[43m \u001b[49m\u001b[38;5;241;43m1\u001b[39;49m\u001b[43m,\u001b[49m\u001b[43m \u001b[49m\u001b[43mmode\u001b[49m\u001b[43m)\u001b[49m\n\u001b[1;32m    506\u001b[0m     \u001b[38;5;28;01melif\u001b[39;00m (dataset \u001b[38;5;241m==\u001b[39m \u001b[38;5;124m'\u001b[39m\u001b[38;5;124mMSL\u001b[39m\u001b[38;5;124m'\u001b[39m):\n\u001b[1;32m    507\u001b[0m         dataset \u001b[38;5;241m=\u001b[39m MSLSegLoader(data_path, win_size, \u001b[38;5;241m1\u001b[39m, mode)\n",
      "File \u001b[0;32m~/disk/sdc/jwj_/AD/KDD2023-DCdetector/data_factory/data_loader.py:149\u001b[0m, in \u001b[0;36mSMDSegLoader.__init__\u001b[0;34m(self, data_path, win_size, step, mode)\u001b[0m\n\u001b[1;32m    147\u001b[0m \u001b[38;5;28mself\u001b[39m\u001b[38;5;241m.\u001b[39mwin_size \u001b[38;5;241m=\u001b[39m win_size\n\u001b[1;32m    148\u001b[0m \u001b[38;5;28mself\u001b[39m\u001b[38;5;241m.\u001b[39mscaler \u001b[38;5;241m=\u001b[39m StandardScaler()\n\u001b[0;32m--> 149\u001b[0m data \u001b[38;5;241m=\u001b[39m \u001b[43mnp\u001b[49m\u001b[38;5;241;43m.\u001b[39;49m\u001b[43mload\u001b[49m\u001b[43m(\u001b[49m\u001b[43mdata_path\u001b[49m\u001b[43m \u001b[49m\u001b[38;5;241;43m+\u001b[39;49m\u001b[43m \u001b[49m\u001b[38;5;124;43m\"\u001b[39;49m\u001b[38;5;124;43m/SMD_train.npy\u001b[39;49m\u001b[38;5;124;43m\"\u001b[39;49m\u001b[43m)\u001b[49m[:,:]\n\u001b[1;32m    150\u001b[0m \u001b[38;5;28mself\u001b[39m\u001b[38;5;241m.\u001b[39mscaler\u001b[38;5;241m.\u001b[39mfit(data)\n\u001b[1;32m    151\u001b[0m data \u001b[38;5;241m=\u001b[39m \u001b[38;5;28mself\u001b[39m\u001b[38;5;241m.\u001b[39mscaler\u001b[38;5;241m.\u001b[39mtransform(data)\n",
      "File \u001b[0;32m~/anaconda3/envs/woojin/lib/python3.10/site-packages/numpy/lib/npyio.py:427\u001b[0m, in \u001b[0;36mload\u001b[0;34m(file, mmap_mode, allow_pickle, fix_imports, encoding, max_header_size)\u001b[0m\n\u001b[1;32m    425\u001b[0m     own_fid \u001b[38;5;241m=\u001b[39m \u001b[38;5;28;01mFalse\u001b[39;00m\n\u001b[1;32m    426\u001b[0m \u001b[38;5;28;01melse\u001b[39;00m:\n\u001b[0;32m--> 427\u001b[0m     fid \u001b[38;5;241m=\u001b[39m stack\u001b[38;5;241m.\u001b[39menter_context(\u001b[38;5;28;43mopen\u001b[39;49m\u001b[43m(\u001b[49m\u001b[43mos_fspath\u001b[49m\u001b[43m(\u001b[49m\u001b[43mfile\u001b[49m\u001b[43m)\u001b[49m\u001b[43m,\u001b[49m\u001b[43m \u001b[49m\u001b[38;5;124;43m\"\u001b[39;49m\u001b[38;5;124;43mrb\u001b[39;49m\u001b[38;5;124;43m\"\u001b[39;49m\u001b[43m)\u001b[49m)\n\u001b[1;32m    428\u001b[0m     own_fid \u001b[38;5;241m=\u001b[39m \u001b[38;5;28;01mTrue\u001b[39;00m\n\u001b[1;32m    430\u001b[0m \u001b[38;5;66;03m# Code to distinguish from NumPy binary files and pickles.\u001b[39;00m\n",
      "\u001b[0;31mFileNotFoundError\u001b[0m: [Errno 2] No such file or directory: '../dataset_anomaly/SMD_train.npy'"
     ]
    }
   ],
   "source": [
    "def find_nearest(batch_size_buffer, value):\n",
    "    return min(batch_size_buffer, key=lambda x: abs(x - value))\n",
    "\n",
    "if config['dataset'] in ['UCR', 'UCR_AUG', 'SMD_Ori']:\n",
    "    batch_size_buffer = [2, 4, 8, 16, 32, 64, 128, 256, 512]\n",
    "    dataset_path = f\"dataset/{config['data_path']}/\" + config['dataset'] + f\"_{config['index']}_train.npy\"\n",
    "    data_len = np.load(dataset_path).shape[0]\n",
    "    config['batch_size'] = find_nearest(batch_size_buffer, data_len / config['win_size'])\n",
    "\n",
    "if config['use_gpu'] and config['use_multi_gpu']:\n",
    "    config['devices'] = config['devices'].replace(' ', '')\n",
    "    config['device_ids'] = [int(id_) for id_ in config['devices'].split(',')]\n",
    "    config['gpu'] = config['device_ids'][0]\n",
    "\n",
    "if config['mode'] == 'train':\n",
    "    print(\"\\n\\n\")\n",
    "    print(time.strftime(\"%Y-%m-%d %H:%M:%S\", time.localtime()))\n",
    "    print('================ Hyperparameters ===============')\n",
    "    for k, v in sorted(config.items()):\n",
    "        print(f'{k}: {v}')\n",
    "    print('====================  Train  ===================')\n",
    "    solver = Solver(config)\n",
    "    solver.train()"
   ]
  },
  {
   "cell_type": "code",
   "execution_count": null,
   "id": "9476eca4",
   "metadata": {},
   "outputs": [],
   "source": []
  }
 ],
 "metadata": {
  "kernelspec": {
   "display_name": "woojin",
   "language": "python",
   "name": "woojin"
  },
  "language_info": {
   "codemirror_mode": {
    "name": "ipython",
    "version": 3
   },
   "file_extension": ".py",
   "mimetype": "text/x-python",
   "name": "python",
   "nbconvert_exporter": "python",
   "pygments_lexer": "ipython3",
   "version": "3.10.12"
  }
 },
 "nbformat": 4,
 "nbformat_minor": 5
}
