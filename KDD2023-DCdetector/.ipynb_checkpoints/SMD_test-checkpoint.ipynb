{
 "cells": [
  {
   "cell_type": "code",
   "execution_count": 1,
   "id": "838a3454",
   "metadata": {},
   "outputs": [],
   "source": [
    "import os\n",
    "from torch.backends import cudnn\n",
    "import time\n",
    "from utils.utils import *\n",
    "from solver import Solver\n",
    "import seaborn as sns\n",
    "import matplotlib.pyplot as plt\n",
    "import json"
   ]
  },
  {
   "cell_type": "code",
   "execution_count": 2,
   "id": "b2d45728",
   "metadata": {},
   "outputs": [],
   "source": [
    "config = {\n",
    "    'win_size': 105,\n",
    "    'patch_size': [5, 7],\n",
    "    'lr': 1e-4,\n",
    "    'loss_fuc': 'MSE',\n",
    "    'n_heads': 1,\n",
    "    'e_layers': 3,\n",
    "    'd_model': 256,\n",
    "    'rec_timeseries': True,\n",
    "#     'use_gpu': torch.cuda.is_available(),\n",
    "    'gpu': 0,\n",
    "#     'use_multi_gpu': True,\n",
    "#     'devices': 'cuda:2',\n",
    "    'index': 137,\n",
    "    'num_epochs': 10,\n",
    "    'batch_size': 256,\n",
    "    'input_c': 38,\n",
    "    'output_c': 38,\n",
    "    'k': 3,\n",
    "    'dataset': 'SMD',\n",
    "    'mode': 'train',\n",
    "    'data_path': 'SMD',\n",
    "    'model_save_path': 'checkpoints',\n",
    "    'anormly_ratio': 0.6,\n",
    "}\n",
    "\n",
    "config['patch_size'] = [int(patch_index) for patch_index in config['patch_size']]"
   ]
  },
  {
   "cell_type": "code",
   "execution_count": 3,
   "id": "bcdb489c",
   "metadata": {
    "scrolled": true
   },
   "outputs": [
    {
     "name": "stdout",
     "output_type": "stream",
     "text": [
      "model on cuda:0\n",
      "\n",
      "\n",
      "\n",
      "2025-03-06 23:06:58\n",
      "================ Hyperparameters ===============\n",
      "anormly_ratio: 0.6\n",
      "batch_size: 256\n",
      "d_model: 256\n",
      "data_path: SMD\n",
      "dataset: SMD\n",
      "e_layers: 3\n",
      "gpu: 0\n",
      "index: 137\n",
      "input_c: 38\n",
      "k: 3\n",
      "loss_fuc: MSE\n",
      "lr: 0.0001\n",
      "mode: train\n",
      "model_save_path: checkpoints\n",
      "n_heads: 1\n",
      "num_epochs: 10\n",
      "output_c: 38\n",
      "patch_size: [5, 7]\n",
      "rec_timeseries: True\n",
      "win_size: 105\n",
      "====================  Train  ===================\n"
     ]
    },
    {
     "name": "stderr",
     "output_type": "stream",
     "text": [
      "Epoch 1/10: 100%|███████████████████████████████████████| 2766/2766 [08:43<00:00,  5.29batch/s, loss=18]\n"
     ]
    },
    {
     "name": "stdout",
     "output_type": "stream",
     "text": [
      "Epoch: 1, Cost time: 728.571s, Train Loss: 18.036970, Validation Loss: 18.026288\n"
     ]
    },
    {
     "name": "stderr",
     "output_type": "stream",
     "text": [
      "Epoch 2/10:   6%|██▎                                     | 156/2766 [00:29<08:20,  5.22batch/s, loss=18]\n"
     ]
    },
    {
     "ename": "KeyboardInterrupt",
     "evalue": "",
     "output_type": "error",
     "traceback": [
      "\u001b[0;31m---------------------------------------------------------------------------\u001b[0m",
      "\u001b[0;31mKeyboardInterrupt\u001b[0m                         Traceback (most recent call last)",
      "Cell \u001b[0;32mIn[3], line 28\u001b[0m\n\u001b[1;32m     26\u001b[0m         \u001b[38;5;28mprint\u001b[39m(\u001b[38;5;124mf\u001b[39m\u001b[38;5;124m'\u001b[39m\u001b[38;5;132;01m{\u001b[39;00mk\u001b[38;5;132;01m}\u001b[39;00m\u001b[38;5;124m: \u001b[39m\u001b[38;5;132;01m{\u001b[39;00mv\u001b[38;5;132;01m}\u001b[39;00m\u001b[38;5;124m'\u001b[39m)\n\u001b[1;32m     27\u001b[0m     \u001b[38;5;28mprint\u001b[39m(\u001b[38;5;124m'\u001b[39m\u001b[38;5;124m====================  Train  ===================\u001b[39m\u001b[38;5;124m'\u001b[39m)\n\u001b[0;32m---> 28\u001b[0m     \u001b[43msolver\u001b[49m\u001b[38;5;241;43m.\u001b[39;49m\u001b[43mtrain\u001b[49m\u001b[43m(\u001b[49m\u001b[43m)\u001b[49m\n\u001b[1;32m     29\u001b[0m \u001b[38;5;28;01melif\u001b[39;00m config[\u001b[38;5;124m'\u001b[39m\u001b[38;5;124mmode\u001b[39m\u001b[38;5;124m'\u001b[39m] \u001b[38;5;241m==\u001b[39m \u001b[38;5;124m'\u001b[39m\u001b[38;5;124mtest\u001b[39m\u001b[38;5;124m'\u001b[39m:\n\u001b[1;32m     30\u001b[0m     \u001b[38;5;28mprint\u001b[39m(\u001b[38;5;124m'\u001b[39m\u001b[38;5;124m====================  Test  ===================\u001b[39m\u001b[38;5;124m'\u001b[39m)\n",
      "File \u001b[0;32m~/disk/sdc/jwj_/AD/KDD2023-DCdetector/solver.py:192\u001b[0m, in \u001b[0;36mSolver.train\u001b[0;34m(self)\u001b[0m\n\u001b[1;32m    189\u001b[0m                     loss\u001b[38;5;241m.\u001b[39mbackward()\n\u001b[1;32m    190\u001b[0m                     \u001b[38;5;28mself\u001b[39m\u001b[38;5;241m.\u001b[39moptimizer\u001b[38;5;241m.\u001b[39mstep()\n\u001b[0;32m--> 192\u001b[0m                     pbar\u001b[38;5;241m.\u001b[39mset_postfix(loss\u001b[38;5;241m=\u001b[39m\u001b[43mloss\u001b[49m\u001b[38;5;241;43m.\u001b[39;49m\u001b[43mitem\u001b[49m\u001b[43m(\u001b[49m\u001b[43m)\u001b[49m)  \u001b[38;5;66;03m# Update tqdm bar with loss\u001b[39;00m\n\u001b[1;32m    193\u001b[0m                     pbar\u001b[38;5;241m.\u001b[39mupdate(\u001b[38;5;241m1\u001b[39m)\n\u001b[1;32m    196\u001b[0m \u001b[38;5;66;03m#             for i, (input_data, labels) in enumerate(self.train_loader):\u001b[39;00m\n\u001b[1;32m    197\u001b[0m \n\u001b[1;32m    198\u001b[0m \u001b[38;5;66;03m#                 self.optimizer.zero_grad()\u001b[39;00m\n\u001b[0;32m   (...)\u001b[0m\n\u001b[1;32m    234\u001b[0m \u001b[38;5;66;03m#                 loss.backward()\u001b[39;00m\n\u001b[1;32m    235\u001b[0m \u001b[38;5;66;03m#                 self.optimizer.step()\u001b[39;00m\n",
      "\u001b[0;31mKeyboardInterrupt\u001b[0m: "
     ]
    }
   ],
   "source": [
    "def find_nearest(batch_size_buffer, value):\n",
    "    return min(batch_size_buffer, key=lambda x: abs(x - value))\n",
    "\n",
    "if config['dataset'] in ['UCR', 'UCR_AUG', 'SMD_Ori']:\n",
    "    batch_size_buffer = [2, 4, 8, 16, 32, 64, 128, 256, 512]\n",
    "    dataset_path = f\"dataset/{config['data_path']}/\" + config['dataset'] + f\"_{config['index']}_train.npy\"\n",
    "    data_len = np.load(dataset_path).shape[0]\n",
    "    config['batch_size'] = find_nearest(batch_size_buffer, data_len / config['win_size'])\n",
    "\n",
    "# if config['use_gpu'] and config['use_multi_gpu']:\n",
    "#     config['devices'] = config['devices'].replace(' ', '')\n",
    "#     config['device_ids'] = [int(id_) for id_ in config['devices'].split(',')]\n",
    "#     config['gpu'] = config['device_ids'][0]\n",
    "\n",
    "    \n",
    "cudnn.benchmark = True\n",
    "if (not os.path.exists(config['model_save_path'])):\n",
    "    mkdir(config.model_save_path)\n",
    "solver = Solver(config)\n",
    "    \n",
    "if config['mode'] == 'train':\n",
    "    print(\"\\n\\n\")\n",
    "    print(time.strftime(\"%Y-%m-%d %H:%M:%S\", time.localtime()))\n",
    "    print('================ Hyperparameters ===============')\n",
    "    for k, v in sorted(config.items()):\n",
    "        print(f'{k}: {v}')\n",
    "    print('====================  Train  ===================')\n",
    "    solver.train()\n",
    "elif config['mode'] == 'test':\n",
    "    print('====================  Test  ===================')\n",
    "    solver.test()"
   ]
  },
  {
   "cell_type": "code",
   "execution_count": null,
   "id": "6c877535",
   "metadata": {},
   "outputs": [],
   "source": []
  }
 ],
 "metadata": {
  "kernelspec": {
   "display_name": "woojin",
   "language": "python",
   "name": "woojin"
  },
  "language_info": {
   "codemirror_mode": {
    "name": "ipython",
    "version": 3
   },
   "file_extension": ".py",
   "mimetype": "text/x-python",
   "name": "python",
   "nbconvert_exporter": "python",
   "pygments_lexer": "ipython3",
   "version": "3.10.12"
  }
 },
 "nbformat": 4,
 "nbformat_minor": 5
}
