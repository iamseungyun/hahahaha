{
 "cells": [
  {
   "cell_type": "code",
   "execution_count": 1,
   "id": "838a3454",
   "metadata": {},
   "outputs": [],
   "source": [
    "import os\n",
    "import time\n",
    "from utils.utils import *\n",
    "from solver import Solver\n",
    "import seaborn as sns\n",
    "import matplotlib.pyplot as plt\n",
    "import json"
   ]
  },
  {
   "cell_type": "code",
   "execution_count": 2,
   "id": "b2d45728",
   "metadata": {},
   "outputs": [],
   "source": [
    "config = {\n",
    "    'win_size': 105,\n",
    "    'patch_size': [3, 5, 7],\n",
    "    'lr': 1e-4,\n",
    "    'loss_fuc': 'MSE',\n",
    "    'n_heads': 1,\n",
    "    'e_layers': 3,\n",
    "    'd_model': 256,\n",
    "    'rec_timeseries': True,\n",
    "    'gpu': 0,\n",
    "    'index': 137,\n",
    "    'num_epochs': 10,\n",
    "    'batch_size': 128,\n",
    "    'input_c': 51,\n",
    "    'output_c': 51,\n",
    "    'k': 3,\n",
    "    'dataset': 'SWAT',\n",
    "    'mode': 'test',\n",
    "    'data_path': 'SWAT',\n",
    "    'model_save_path': 'checkpoints',\n",
    "    'anormly_ratio': 1,\n",
    "}\n",
    "\n",
    "config['patch_size'] = [int(patch_index) for patch_index in config['patch_size']]"
   ]
  },
  {
   "cell_type": "code",
   "execution_count": 3,
   "id": "a3ee597d",
   "metadata": {},
   "outputs": [
    {
     "name": "stdout",
     "output_type": "stream",
     "text": [
      "test: (449919, 51)\n",
      "train: (495000, 51)\n",
      "test: (449919, 51)\n",
      "train: (495000, 51)\n",
      "test: (449919, 51)\n",
      "train: (495000, 51)\n",
      "test: (449919, 51)\n",
      "train: (495000, 51)\n"
     ]
    }
   ],
   "source": [
    "solver = Solver(config)"
   ]
  },
  {
   "cell_type": "code",
   "execution_count": 5,
   "id": "9cde74d2",
   "metadata": {},
   "outputs": [
    {
     "name": "stdout",
     "output_type": "stream",
     "text": [
      "Batch 0 saved at wj_temp/saved_data/SWAT_train_batch_0.pt\n",
      "Batch 1 saved at wj_temp/saved_data/SWAT_train_batch_1.pt\n",
      "Batch 2 saved at wj_temp/saved_data/SWAT_train_batch_2.pt\n",
      "Batch 3 saved at wj_temp/saved_data/SWAT_train_batch_3.pt\n",
      "Batch 4 saved at wj_temp/saved_data/SWAT_train_batch_4.pt\n"
     ]
    }
   ],
   "source": [
    "import torch\n",
    "import os\n",
    "\n",
    "save_path = \"wj_temp/saved_data\"\n",
    "os.makedirs(save_path, exist_ok=True)\n",
    "\n",
    "num_batches_to_save = 5  \n",
    "batch_idx = 0  \n",
    "\n",
    "for input_data, labels in solver.train_loader:\n",
    "    if batch_idx >= num_batches_to_save:  \n",
    "        break  \n",
    "\n",
    "#     input = input_data.float().to(solver.device)\n",
    "#     series, prior = solver.model(input)\n",
    "\n",
    "    batch_data = {\n",
    "        \"input_data\": input_data,\n",
    "        \"labels\": labels,\n",
    "#         \"series\": series,\n",
    "#         \"prior\": prior,\n",
    "    }\n",
    "\n",
    "    batch_save_path = os.path.join(save_path, f\"{config['dataset']}_train_batch_{batch_idx}.pt\")\n",
    "    torch.save(batch_data, batch_save_path)\n",
    "    print(f\"Batch {batch_idx} saved at {batch_save_path}\")\n",
    "\n",
    "    batch_idx += 1"
   ]
  },
  {
   "cell_type": "code",
   "execution_count": null,
   "id": "f10daf81",
   "metadata": {},
   "outputs": [],
   "source": []
  }
 ],
 "metadata": {
  "kernelspec": {
   "display_name": "woojin",
   "language": "python",
   "name": "woojin"
  },
  "language_info": {
   "codemirror_mode": {
    "name": "ipython",
    "version": 3
   },
   "file_extension": ".py",
   "mimetype": "text/x-python",
   "name": "python",
   "nbconvert_exporter": "python",
   "pygments_lexer": "ipython3",
   "version": "3.10.12"
  }
 },
 "nbformat": 4,
 "nbformat_minor": 5
}
